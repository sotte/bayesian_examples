{
 "cells": [
  {
   "cell_type": "code",
   "execution_count": null,
   "metadata": {
    "collapsed": true
   },
   "outputs": [],
   "source": [
    "# %load science.py\n",
    "\"\"\"\n",
    "Default imports for pretty much every scientific thing I do.\n",
    "\n",
    "\"\"\"\n",
    "from __future__ import division\n",
    "from __future__ import print_function\n",
    "\n",
    "import os\n",
    "import random\n",
    "import math\n",
    "from collections import namedtuple\n",
    "from collections import OrderedDict\n",
    "from pprint import pprint\n",
    "\n",
    "import numpy as np\n",
    "from numpy.linalg import inv\n",
    "import scipy as sp\n",
    "from scipy import stats\n",
    "import pandas as pd\n",
    "\n",
    "# import matplotlib as mpl\n",
    "import matplotlib.pyplot as plt\n",
    "from mpl_toolkits.mplot3d import Axes3D\n",
    "import seaborn as sns\n",
    "\n",
    "\n",
    "arr = np.array\n",
    "\n",
    "\n",
    "def mdot(*args):\n",
    "    \"\"\"Multi argument dot function.\n",
    "\n",
    "    http://wiki.scipy.org/Cookbook/MultiDot\n",
    "\n",
    "    >>> mdot(a, b, c, d)\n",
    "    \"\"\"\n",
    "    return reduce(np.dot, args)\n",
    "\n",
    "\n",
    "# ipython notebook magic\n",
    "# %load_ext autoreload\n",
    "# %autoreload 2\n",
    "# %matplotlib notebook\n",
    "%matplotlib inline\n"
   ]
  },
  {
   "cell_type": "markdown",
   "metadata": {},
   "source": [
    "# Framework for Bayesian Statistics\n",
    "\n",
    "The framework is inspired by Allen Downey's [ThinkBayes](http://greenteapress.com/thinkbayes/) which is a fun read and available online.\n",
    "\n",
    "I learn best by implementing it myself (and I don't particularly like his coding conventions ;))."
   ]
  },
  {
   "cell_type": "code",
   "execution_count": null,
   "metadata": {
    "collapsed": false
   },
   "outputs": [],
   "source": [
    "class Pmf(OrderedDict):\n",
    "    \"\"\"\n",
    "    A Pmf is an ordered dict which maps from an event, (i.e. an element in the domain) to a probabitly.\n",
    "    \n",
    "    Note this implementation does not guarante that the Pmf is normalized\n",
    "    \"\"\"\n",
    "    def normalize(self):\n",
    "        total = sum(self.values())\n",
    "        for hyp, value in self.iteritems():\n",
    "            self[hyp] = self[hyp] / total\n",
    "        return total\n",
    "    \n",
    "    def print(self):\n",
    "        for k, v in self.iteritems():\n",
    "            print('{}: {}'.format(k, v))\n",
    "            \n",
    "    def plot(self, ax=None):\n",
    "        if ax is None:\n",
    "            fig, ax = plt.subplots()\n",
    "        x = range(len(self))\n",
    "        ax.plot(x, self.values())\n",
    "    \n",
    "    def plot_bar(self, ax=None):\n",
    "        if ax is None:\n",
    "            fig, ax = plt.subplots()\n",
    "        x = range(len(self))\n",
    "        ax.bar(x, self.values())\n",
    "        \n",
    "    @property\n",
    "    def n(self):\n",
    "        return len(self)\n",
    "    \n",
    "    def mean(self):\n",
    "        return sum(k * v\n",
    "                   for k, v in self.iteritems())\n",
    "    \n",
    "    def var(self):\n",
    "        mu = self.mean()\n",
    "        return sum(prob * (x - mu)**2\n",
    "                   for x, prob in self.iteritems())\n",
    "        \n",
    "\n",
    "\n",
    "# Example\n",
    "pmf = Pmf(zip(['bowl 1', 'bowl 2'],\n",
    "              [.6, .6]))\n",
    "print(pmf)\n",
    "pmf.normalize()\n",
    "print(pmf)\n",
    "\n",
    "pmf['bowl 1'] *= .75\n",
    "pmf['bowl 2'] *= .5\n",
    "print(pmf)\n",
    "pmf.normalize()\n",
    "print(pmf)"
   ]
  },
  {
   "cell_type": "markdown",
   "metadata": {},
   "source": [
    "To do Bayesian statistics we have to be able to update our belief using Bayes rule. See the update function.\n",
    "\n",
    "Note that you have to implement the likelihood function"
   ]
  },
  {
   "cell_type": "code",
   "execution_count": null,
   "metadata": {
    "collapsed": false
   },
   "outputs": [],
   "source": [
    "class Suite(Pmf):\n",
    "    \"\"\"\n",
    "    A collection of hypotheses which we can updated using bayes rule.\n",
    "    \n",
    "    Suite is initialized uniformly.\n",
    "    \"\"\"\n",
    "    def __init__(self, hypos):\n",
    "        super(Pmf, self).__init__()\n",
    "        for hypo in hypos:\n",
    "            self[hypo] = 1\n",
    "        self.normalize()\n",
    "        \n",
    "    def update(self, evidence):\n",
    "        \"\"\"Bayes' update\"\"\"\n",
    "        for hypo in self:\n",
    "            self[hypo] = self[hypo] * self.likelihood(evidence, hypo)\n",
    "        self.normalize()\n",
    "        \n",
    "    def likelihood(self, evidence, hypo):\n",
    "        \"\"\"Overwrite me in the child class.\"\"\"\n",
    "        raise NotImplementedError()"
   ]
  },
  {
   "cell_type": "markdown",
   "metadata": {},
   "source": [
    "# Dice\n",
    "Simple example of how the Suite works.\n",
    "\n",
    "There are three dice: a 4-sided one, a 6-sided one, and a 12-sided one. Someone randomly picks one of these die (-> uniform prior), rolls it and tells you the result of the roll. Based on this information you're to estimate which of the dice was picked (update your belief).\n",
    "\n",
    "So let's implement this problem using the Suite. We create a XSidedDice class and implement the likelihood function:"
   ]
  },
  {
   "cell_type": "code",
   "execution_count": null,
   "metadata": {
    "collapsed": false
   },
   "outputs": [],
   "source": [
    "class XSidedDice(Suite):\n",
    "    \"\"\"A suite of different x-sided die.\"\"\"    \n",
    "    def likelihood(self, roll, sides):\n",
    "        # the likelihood that the roll (the actual rolled number) is\n",
    "        # bigger than the die has sides is 0\n",
    "        if roll > sides:\n",
    "            return 0\n",
    "        # otherwise each roll is equally likely\n",
    "        else:\n",
    "            return 1. / sides\n",
    "\n",
    "\n",
    "# we have a 4-sided, a 6-sided and a 12-sided die\n",
    "dice = XSidedDice([4, 6, 12])\n",
    "\n",
    "# given that a 6 was rolled, what is the probability that the 4-, 6-, or 12-sided die was used?\n",
    "dice.update(6)\n",
    "dice.print()"
   ]
  },
  {
   "cell_type": "code",
   "execution_count": null,
   "metadata": {
    "collapsed": false
   },
   "outputs": [],
   "source": [
    "# more data\n",
    "for roll in [1, 2, 5, 6, 2, 7]:\n",
    "    dice.update(roll)\n",
    "    dice.print()\n",
    "    print()"
   ]
  },
  {
   "cell_type": "markdown",
   "metadata": {},
   "source": [
    "# German Tank Problem\n",
    "The [German Tank Problem](https://en.wikipedia.org/wiki/German_tank_problem) is a famous example for the success of Bayesian statistics. And it's very easy to implement with our Suite framework.\n",
    "\n",
    "We beliefe there are between 0 and 100 tanks. We are able to observe the serial number of a random tank telling us that we saw the $i$-th tank."
   ]
  },
  {
   "cell_type": "code",
   "execution_count": null,
   "metadata": {
    "collapsed": false
   },
   "outputs": [],
   "source": [
    "class GermanTankProblem(Suite):\n",
    "    def likelihood(self, evidence, hypo):\n",
    "        if evidence > hypo:\n",
    "            return 0\n",
    "        else:\n",
    "            return 1 / hypo"
   ]
  },
  {
   "cell_type": "code",
   "execution_count": null,
   "metadata": {
    "collapsed": false
   },
   "outputs": [],
   "source": [
    "tank_problem = GermanTankProblem(list(range(100)))\n",
    "\n",
    "fig, ax = plt.subplots()\n",
    "\n",
    "observations = [26, 40, 41, 55, 5]\n",
    "for observation in observations:\n",
    "    tank_problem.update(observation)\n",
    "    \n",
    "    tank_problem.plot(ax=ax)\n",
    "    print('mean {}, var {}'\n",
    "          .format(tank_problem.mean(), tank_problem.var()))\n",
    "\n",
    "ax.legend(observations)"
   ]
  },
  {
   "cell_type": "markdown",
   "metadata": {},
   "source": [
    "# Bayesian Robot Perception (e02)\n",
    "\n",
    "See the exercise sheet."
   ]
  },
  {
   "cell_type": "code",
   "execution_count": null,
   "metadata": {
    "collapsed": true
   },
   "outputs": [],
   "source": [
    "class BayesianPerception(Suite):\n",
    "    def likelihood(self, evidence, hypo):\n",
    "        _likelihood = {'is_open':   {'sense_closed': .4, 'sense_open': .6},\n",
    "                       'is_closed': {'sense_closed': .8, 'sense_open': .2},\n",
    "        }\n",
    "        return _likelihood[hypo][evidence]"
   ]
  },
  {
   "cell_type": "code",
   "execution_count": null,
   "metadata": {
    "collapsed": false
   },
   "outputs": [],
   "source": [
    "model = BayesianPerception(['is_open', 'is_closed'])\n",
    "print(model)\n",
    "print()\n",
    "\n",
    "observations = ['sense_open', 'sense_closed', 'sense_open', 'sense_open', 'sense_open']\n",
    "for evidence in observations:\n",
    "    print('Observing {}'.format(evidence))\n",
    "    model.update(evidence)\n",
    "    model.print()\n",
    "    print()"
   ]
  },
  {
   "cell_type": "markdown",
   "metadata": {},
   "source": [
    "# Robot Localization\n",
    "A simple histogram filter in a circular world.\n",
    "\n",
    "Additionally to the likelihood function we have to implement the prediction step."
   ]
  },
  {
   "cell_type": "code",
   "execution_count": null,
   "metadata": {
    "collapsed": false
   },
   "outputs": [],
   "source": [
    "class HistogramFilter(Suite):\n",
    "    def likelihood(self, evidence, hypo):\n",
    "        map_ = [1, 1, 0, 0, 0, 1, 0, 0, 0, 0]\n",
    "        likelihood_ = {\n",
    "             1: {'landmark': .6, 'no_landmark': .4},\n",
    "             0: {'landmark': .3, 'no_landmark': .7}\n",
    "        }\n",
    "        l_at_pos = map_[hypo]\n",
    "        return likelihood_[l_at_pos][evidence]\n",
    "    \n",
    "    # make it look like predict/correct filter\n",
    "    def predict(self, u):\n",
    "        # motion model\n",
    "        p_trans = {\n",
    "            'left':  dict(left=0.8, stand=0.2, right=0.0),\n",
    "            'stand': dict(left=0.0, stand=1.0, right=0.0),\n",
    "            'right': dict(left=0.1, stand=0.2, right=0.7),\n",
    "        }\n",
    "        \n",
    "        bel_ = [sum([p_trans[u]['left']  * self[(i+1) % self.n],\n",
    "                     p_trans[u]['stand'] * self[i],\n",
    "                     p_trans[u]['right'] * self[(i-1) % self.n]])\n",
    "                for i in range(self.n)]\n",
    "        \n",
    "        for i in range(self.n):\n",
    "            self[i] = bel_[i]\n",
    "            \n",
    "    def correct(self, evidence):\n",
    "        \"\"\"Wrapper to add the familiar `correct` function of Bayes' filters.\"\"\"\n",
    "        self.update(evidence)\n",
    "\n",
    "\n",
    "hist_filter = HistogramFilter(range(10))\n",
    "hist_filter.update('landmark')\n",
    "hist_filter.plot_bar()"
   ]
  },
  {
   "cell_type": "code",
   "execution_count": null,
   "metadata": {
    "collapsed": false
   },
   "outputs": [],
   "source": [
    "hist_filter.predict('right')\n",
    "hist_filter.plot_bar()"
   ]
  },
  {
   "cell_type": "code",
   "execution_count": null,
   "metadata": {
    "collapsed": false
   },
   "outputs": [],
   "source": [
    "hist_filter.update('landmark')\n",
    "hist_filter.plot_bar()"
   ]
  },
  {
   "cell_type": "markdown",
   "metadata": {},
   "source": [
    "# Fine Grained Localization with Gaussian Observation\n",
    "\n",
    "Just a quick draft to demonstrate that you can implement more complex scenarios."
   ]
  },
  {
   "cell_type": "code",
   "execution_count": null,
   "metadata": {
    "collapsed": false
   },
   "outputs": [],
   "source": [
    "from operator import mul\n",
    "\n",
    "\n",
    "dom = 100\n",
    "landmarks = [5, 15, 55]\n",
    "\n",
    "\n",
    "class Localization(Suite): \n",
    "    like_landmark = [\n",
    "        np.prod(sp.stats.norm.pdf(pos, pos_of_landmark, 4) for pos_of_landmark in landmarks)\n",
    "        for pos in range(dom)]\n",
    "    \n",
    "    def likelihood(self, evidence, hypo):\n",
    "        if evidence is True:\n",
    "            return like_landmark[hypo]\n",
    "        else:\n",
    "            raise ValueError()\n",
    "    \n",
    "    # make it look like predict/correct filter\n",
    "    def predict(self, u):\n",
    "        # motion model as before\n",
    "        p_trans = {\n",
    "            'left':  dict(left=0.8, stand=0.2, right=0.0),\n",
    "            'stand': dict(left=0.0, stand=1.0, right=0.0),\n",
    "            'right': dict(left=0.1, stand=0.2, right=0.7),\n",
    "        }\n",
    "        bel_ = [sum([p_trans[u]['left']  * self[(i+1) % self.n],\n",
    "                     p_trans[u]['stand'] * self[i],\n",
    "                     p_trans[u]['right'] * self[(i-1) % self.n]])\n",
    "                for i in range(self.n)]\n",
    "        for i in range(self.n):\n",
    "            self[i] = bel_[i]\n",
    "            \n",
    "    def correct(self, evidence):\n",
    "        \"\"\"Only call \"\"\"\n",
    "        self.update(evidence)\n",
    "\n",
    "\n",
    "localization = Localization(range(dom))\n",
    "\n",
    "fig, ax = plt.subplots()\n",
    "localization.plot(ax=ax)"
   ]
  },
  {
   "cell_type": "code",
   "execution_count": null,
   "metadata": {
    "collapsed": false
   },
   "outputs": [],
   "source": [
    "localization.correct(True)\n",
    "localization.plot()"
   ]
  },
  {
   "cell_type": "code",
   "execution_count": null,
   "metadata": {
    "collapsed": false
   },
   "outputs": [],
   "source": [
    "localization.correct(True)\n",
    "localization.plot()"
   ]
  },
  {
   "cell_type": "code",
   "execution_count": null,
   "metadata": {
    "collapsed": false
   },
   "outputs": [],
   "source": [
    "for i in range(25):\n",
    "    localization.predict('right')\n",
    "\n",
    "localization.plot(ax=ax)"
   ]
  },
  {
   "cell_type": "code",
   "execution_count": null,
   "metadata": {
    "collapsed": false
   },
   "outputs": [],
   "source": [
    "localization.correct(True)\n",
    "localization.plot()"
   ]
  },
  {
   "cell_type": "code",
   "execution_count": null,
   "metadata": {
    "collapsed": true
   },
   "outputs": [],
   "source": []
  },
  {
   "cell_type": "code",
   "execution_count": null,
   "metadata": {
    "collapsed": true
   },
   "outputs": [],
   "source": []
  }
 ],
 "metadata": {
  "kernelspec": {
   "display_name": "Python 2",
   "language": "python",
   "name": "python2"
  },
  "language_info": {
   "codemirror_mode": {
    "name": "ipython",
    "version": 2
   },
   "file_extension": ".py",
   "mimetype": "text/x-python",
   "name": "python",
   "nbconvert_exporter": "python",
   "pygments_lexer": "ipython2",
   "version": "2.7.10"
  }
 },
 "nbformat": 4,
 "nbformat_minor": 0
}
