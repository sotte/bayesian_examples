{
 "cells": [
  {
   "cell_type": "code",
   "execution_count": 1,
   "metadata": {
    "collapsed": true
   },
   "outputs": [],
   "source": [
    "# %load science.py\n",
    "\"\"\"\n",
    "Default imports for pretty much every scientific thing I do.\n",
    "\n",
    "\"\"\"\n",
    "from __future__ import division\n",
    "from __future__ import print_function\n",
    "\n",
    "import os\n",
    "import random\n",
    "import math\n",
    "from collections import namedtuple\n",
    "from collections import OrderedDict\n",
    "from pprint import pprint\n",
    "\n",
    "import numpy as np\n",
    "from numpy.linalg import inv\n",
    "import scipy as sp\n",
    "from scipy import stats\n",
    "import pandas as pd\n",
    "\n",
    "# import matplotlib as mpl\n",
    "import matplotlib.pyplot as plt\n",
    "from mpl_toolkits.mplot3d import Axes3D\n",
    "import seaborn as sns\n",
    "\n",
    "\n",
    "arr = np.array\n",
    "\n",
    "\n",
    "def mdot(*args):\n",
    "    \"\"\"Multi argument dot function.\n",
    "\n",
    "    http://wiki.scipy.org/Cookbook/MultiDot\n",
    "\n",
    "    >>> mdot(a, b, c, d)\n",
    "    \"\"\"\n",
    "    return reduce(np.dot, args)\n",
    "\n",
    "\n",
    "# ipython notebook magic\n",
    "# %load_ext autoreload\n",
    "# %autoreload 2\n",
    "# %matplotlib notebook\n",
    "%matplotlib inline\n"
   ]
  },
  {
   "cell_type": "markdown",
   "metadata": {},
   "source": [
    "# Framework for Bayesian Statistics\n",
    "\n",
    "The framework is inspired by Allen Downey's [ThinkBayes](http://greenteapress.com/thinkbayes/) which is a fun read and available online.\n",
    "\n",
    "I learn best by implementing it myself (and I don't particularly like his coding conventions ;))."
   ]
  },
  {
   "cell_type": "code",
   "execution_count": 2,
   "metadata": {
    "collapsed": false
   },
   "outputs": [
    {
     "name": "stdout",
     "output_type": "stream",
     "text": [
      "Pmf([('bowl 1', 0.6), ('bowl 2', 0.6)])\n",
      "Pmf([('bowl 1', 0.5), ('bowl 2', 0.5)])\n",
      "Pmf([('bowl 1', 0.375), ('bowl 2', 0.25)])\n",
      "Pmf([('bowl 1', 0.6), ('bowl 2', 0.4)])\n"
     ]
    }
   ],
   "source": [
    "class Pmf(OrderedDict):\n",
    "    \"\"\"\n",
    "    A Pmf is an ordered dict which maps from an event, (i.e. an element in the domain) to a probabitly.\n",
    "    \n",
    "    Note this implementation does not guarante that the Pmf is normalized\n",
    "    \"\"\"\n",
    "    def normalize(self):\n",
    "        total = sum(self.values())\n",
    "        for hyp, value in self.iteritems():\n",
    "            self[hyp] = self[hyp] / total\n",
    "        return total\n",
    "    \n",
    "    def print(self):\n",
    "        for k, v in self.iteritems():\n",
    "            print('{}: {}'.format(k, v))\n",
    "            \n",
    "    def plot(self, ax=None):\n",
    "        if ax is None:\n",
    "            fig, ax = plt.subplots()\n",
    "        x = range(len(self))\n",
    "        ax.plot(x, self.values())\n",
    "    \n",
    "    def plot_bar(self, ax=None):\n",
    "        if ax is None:\n",
    "            fig, ax = plt.subplots()\n",
    "        x = range(len(self))\n",
    "        ax.bar(x, self.values())\n",
    "        \n",
    "    @property\n",
    "    def n(self):\n",
    "        return len(self)\n",
    "    \n",
    "    def mean(self):\n",
    "        return sum(k * v\n",
    "                   for k, v in self.iteritems())\n",
    "    \n",
    "    def var(self):\n",
    "        mu = self.mean()\n",
    "        return sum(prob * (x - mu)**2\n",
    "                   for x, prob in self.iteritems())\n",
    "        \n",
    "\n",
    "\n",
    "# Example\n",
    "pmf = Pmf(zip(['bowl 1', 'bowl 2'],\n",
    "              [.6, .6]))\n",
    "print(pmf)\n",
    "pmf.normalize()\n",
    "print(pmf)\n",
    "\n",
    "pmf['bowl 1'] *= .75\n",
    "pmf['bowl 2'] *= .5\n",
    "print(pmf)\n",
    "pmf.normalize()\n",
    "print(pmf)"
   ]
  },
  {
   "cell_type": "markdown",
   "metadata": {},
   "source": [
    "To do Bayesian statistics we have to be able to update our belief using Bayes rule. See the update function.\n",
    "\n",
    "Note that you have to implement the likelihood function"
   ]
  },
  {
   "cell_type": "code",
   "execution_count": 3,
   "metadata": {
    "collapsed": false
   },
   "outputs": [],
   "source": [
    "class Suite(Pmf):\n",
    "    \"\"\"\n",
    "    A collection of hypotheses which we can updated using bayes rule.\n",
    "    \n",
    "    Suite is initialized uniformly.\n",
    "    \"\"\"\n",
    "    def __init__(self, hypos):\n",
    "        super(Pmf, self).__init__()\n",
    "        for hypo in hypos:\n",
    "            self[hypo] = 1\n",
    "        self.normalize()\n",
    "        \n",
    "    def update(self, evidence):\n",
    "        \"\"\"Bayes' update\"\"\"\n",
    "        for hypo in self:\n",
    "            self[hypo] *= self.likelihood(evidence, hypo)\n",
    "        self.normalize()\n",
    "        \n",
    "    def likelihood(self, evidence, hypo):\n",
    "        \"\"\"Overwrite me in the child class.\"\"\"\n",
    "        raise NotImplementedError()"
   ]
  },
  {
   "cell_type": "markdown",
   "metadata": {},
   "source": [
    "# Dice\n",
    "Simple example of how the Suite works.\n",
    "\n",
    "There are three dice: a 4-sided one, a 6-sided one, and a 12-sided one. Someone randomly picks one of these die (-> uniform prior), rolls it and tells you the result of the roll. Based on this information you're to estimate which of the dice was picked (update your belief).\n",
    "\n",
    "So let's implement this problem using the Suite. We create a XSidedDice class and implement the likelihood function:"
   ]
  },
  {
   "cell_type": "code",
   "execution_count": 4,
   "metadata": {
    "collapsed": false
   },
   "outputs": [
    {
     "name": "stdout",
     "output_type": "stream",
     "text": [
      "4: 0.0\n",
      "6: 0.666666666667\n",
      "12: 0.333333333333\n"
     ]
    }
   ],
   "source": [
    "class XSidedDice(Suite):\n",
    "    \"\"\"A suite of different x-sided die.\"\"\"    \n",
    "    def likelihood(self, roll, sides):\n",
    "        # the likelihood that the roll (the actual rolled number) is\n",
    "        # bigger than the die has sides is 0\n",
    "        if roll > sides:\n",
    "            return 0\n",
    "        # otherwise each roll is equally likely\n",
    "        else:\n",
    "            return 1. / sides\n",
    "\n",
    "\n",
    "# we have a 4-sided, a 6-sided and a 12-sided die\n",
    "dice = XSidedDice([4, 6, 12])\n",
    "\n",
    "# given that a 6 was rolled, what is the probability that the 4-, 6-, or 12-sided die was used?\n",
    "dice.update(6)\n",
    "dice.print()"
   ]
  },
  {
   "cell_type": "code",
   "execution_count": 5,
   "metadata": {
    "collapsed": false
   },
   "outputs": [
    {
     "name": "stdout",
     "output_type": "stream",
     "text": [
      "4: 0.0\n",
      "6: 0.8\n",
      "12: 0.2\n",
      "\n",
      "4: 0.0\n",
      "6: 0.888888888889\n",
      "12: 0.111111111111\n",
      "\n",
      "4: 0.0\n",
      "6: 0.941176470588\n",
      "12: 0.0588235294118\n",
      "\n",
      "4: 0.0\n",
      "6: 0.969696969697\n",
      "12: 0.030303030303\n",
      "\n",
      "4: 0.0\n",
      "6: 0.984615384615\n",
      "12: 0.0153846153846\n",
      "\n",
      "4: 0.0\n",
      "6: 0.0\n",
      "12: 1.0\n",
      "\n"
     ]
    }
   ],
   "source": [
    "# more data\n",
    "for roll in [1, 2, 5, 6, 2, 7]:\n",
    "    dice.update(roll)\n",
    "    dice.print()\n",
    "    print()"
   ]
  },
  {
   "cell_type": "markdown",
   "metadata": {},
   "source": [
    "# German Tank Problem\n",
    "The [German Tank Problem](https://en.wikipedia.org/wiki/German_tank_problem) is a famous example for the success of Bayesian statistics. And it's very easy to implement with our Suite framework.\n",
    "\n",
    "We beliefe there are between 0 and 100 tanks. We are able to observe the serial number of a random tank telling us that we saw the $i$-th tank."
   ]
  },
  {
   "cell_type": "code",
   "execution_count": 6,
   "metadata": {
    "collapsed": false
   },
   "outputs": [],
   "source": [
    "class GermanTankProblem(Suite):\n",
    "    def likelihood(self, evidence, hypo):\n",
    "        if evidence > hypo:\n",
    "            return 0\n",
    "        else:\n",
    "            return 1 / hypo"
   ]
  },
  {
   "cell_type": "code",
   "execution_count": 7,
   "metadata": {
    "collapsed": false
   },
   "outputs": [
    {
     "name": "stdout",
     "output_type": "stream",
     "text": [
      "mean 54.3550380342, var 442.719717438\n",
      "mean 60.52003149, var 267.902069274\n",
      "mean 57.5734836173, var 220.079106896\n",
      "mean 68.4819839268, var 133.361479945\n",
      "mean 66.73906886, var 116.320528656\n"
     ]
    },
    {
     "data": {
      "text/plain": [
       "<matplotlib.legend.Legend at 0x7fa7ddfd46d0>"
      ]
     },
     "execution_count": 7,
     "metadata": {},
     "output_type": "execute_result"
    },
    {
     "data": {
      "image/png": "[encoded data removed]",
      "text/plain": [
       "<matplotlib.figure.Figure at 0x7fa7ddfd47d0>"
      ]
     },
     "metadata": {},
     "output_type": "display_data"
    }
   ],
   "source": [
    "tank_problem = GermanTankProblem(list(range(100)))\n",
    "\n",
    "fig, ax = plt.subplots()\n",
    "\n",
    "observations = [26, 40, 41, 55, 5]\n",
    "for observation in observations:\n",
    "    tank_problem.update(observation)\n",
    "    \n",
    "    tank_problem.plot(ax=ax)\n",
    "    print('mean {}, var {}'\n",
    "          .format(tank_problem.mean(), tank_problem.var()))\n",
    "\n",
    "ax.legend(observations)"
   ]
  },
  {
   "cell_type": "markdown",
   "metadata": {},
   "source": [
    "# Bayesian Robot Perception (e02)\n",
    "\n",
    "See the exercise sheet."
   ]
  },
  {
   "cell_type": "code",
   "execution_count": 8,
   "metadata": {
    "collapsed": true
   },
   "outputs": [],
   "source": [
    "class BayesianPerception(Suite):\n",
    "    def likelihood(self, evidence, hypo):\n",
    "        _likelihood = {'is_open':   {'sense_closed': .4, 'sense_open': .6},\n",
    "                       'is_closed': {'sense_closed': .8, 'sense_open': .2},\n",
    "        }\n",
    "        return _likelihood[hypo][evidence]"
   ]
  },
  {
   "cell_type": "code",
   "execution_count": 9,
   "metadata": {
    "collapsed": false
   },
   "outputs": [
    {
     "name": "stdout",
     "output_type": "stream",
     "text": [
      "BayesianPerception([('is_open', 0.5), ('is_closed', 0.5)])\n",
      "\n",
      "Observing sense_open\n",
      "is_open: 0.75\n",
      "is_closed: 0.25\n",
      "\n",
      "Observing sense_closed\n",
      "is_open: 0.6\n",
      "is_closed: 0.4\n",
      "\n",
      "Observing sense_open\n",
      "is_open: 0.818181818182\n",
      "is_closed: 0.181818181818\n",
      "\n",
      "Observing sense_open\n",
      "is_open: 0.931034482759\n",
      "is_closed: 0.0689655172414\n",
      "\n",
      "Observing sense_open\n",
      "is_open: 0.975903614458\n",
      "is_closed: 0.0240963855422\n",
      "\n"
     ]
    }
   ],
   "source": [
    "model = BayesianPerception(['is_open', 'is_closed'])\n",
    "print(model)\n",
    "print()\n",
    "\n",
    "observations = ['sense_open', 'sense_closed', 'sense_open', 'sense_open', 'sense_open']\n",
    "for evidence in observations:\n",
    "    print('Observing {}'.format(evidence))\n",
    "    model.update(evidence)\n",
    "    model.print()\n",
    "    print()"
   ]
  },
  {
   "cell_type": "markdown",
   "metadata": {},
   "source": [
    "# Robot Localization\n",
    "A simple histogram filter in a circular world.\n",
    "\n",
    "Additionally to the likelihood function we have to implement the prediction step."
   ]
  },
  {
   "cell_type": "code",
   "execution_count": 10,
   "metadata": {
    "collapsed": false
   },
   "outputs": [
    {
     "data": {
      "image/png": "[encoded data removed]",
      "text/plain": [
       "<matplotlib.figure.Figure at 0x7fa7b0588c50>"
      ]
     },
     "metadata": {},
     "output_type": "display_data"
    }
   ],
   "source": [
    "class HistogramFilter(Suite):\n",
    "    def likelihood(self, evidence, hypo):\n",
    "        map_ = [1, 1, 0, 0, 0, 1, 0, 0, 0, 0]\n",
    "        likelihood_ = {\n",
    "             1: {'landmark': .6, 'no_landmark': .4},\n",
    "             0: {'landmark': .3, 'no_landmark': .7}\n",
    "        }\n",
    "        l_at_pos = map_[hypo]\n",
    "        return likelihood_[l_at_pos][evidence]\n",
    "    \n",
    "    # make it look like predict/correct filter\n",
    "    def predict(self, u):\n",
    "        # motion model\n",
    "        p_trans = {\n",
    "            'left':  dict(left=0.8, stand=0.2, right=0.0),\n",
    "            'stand': dict(left=0.0, stand=1.0, right=0.0),\n",
    "            'right': dict(left=0.1, stand=0.2, right=0.7),\n",
    "        }\n",
    "        \n",
    "        bel_ = [sum([p_trans[u]['left']  * self[(i+1) % self.n],\n",
    "                     p_trans[u]['stand'] * self[i],\n",
    "                     p_trans[u]['right'] * self[(i-1) % self.n]])\n",
    "                for i in range(self.n)]\n",
    "        \n",
    "        for i in range(self.n):\n",
    "            self[i] = bel_[i]\n",
    "            \n",
    "    def correct(self, evidence):\n",
    "        \"\"\"Wrapper to add the familiar `correct` function of Bayes' filters.\"\"\"\n",
    "        self.update(evidence)\n",
    "\n",
    "\n",
    "hist_filter = HistogramFilter(range(10))\n",
    "hist_filter.update('landmark')\n",
    "hist_filter.plot_bar()"
   ]
  },
  {
   "cell_type": "code",
   "execution_count": 11,
   "metadata": {
    "collapsed": false
   },
   "outputs": [
    {
     "data": {
      "image/png": "[encoded data removed]",
      "text/plain": [
       "<matplotlib.figure.Figure at 0x7fa7b0761890>"
      ]
     },
     "metadata": {},
     "output_type": "display_data"
    }
   ],
   "source": [
    "hist_filter.predict('right')\n",
    "hist_filter.plot_bar()"
   ]
  },
  {
   "cell_type": "code",
   "execution_count": 12,
   "metadata": {
    "collapsed": false
   },
   "outputs": [
    {
     "data": {
      "image/png": "[encoded data removed]",
      "text/plain": [
       "<matplotlib.figure.Figure at 0x7fa7b03d5a50>"
      ]
     },
     "metadata": {},
     "output_type": "display_data"
    }
   ],
   "source": [
    "hist_filter.update('landmark')\n",
    "hist_filter.plot_bar()"
   ]
  },
  {
   "cell_type": "markdown",
   "metadata": {},
   "source": [
    "# Fine Grained Localization with Gaussian Observation\n",
    "\n",
    "Just a quick draft to demonstrate that you can implement more complex scenarios."
   ]
  },
  {
   "cell_type": "code",
   "execution_count": 13,
   "metadata": {
    "collapsed": false
   },
   "outputs": [
    {
     "data": {
      "image/png": "[encoded data removed]",
      "text/plain": [
       "<matplotlib.figure.Figure at 0x7fa7b02e7b90>"
      ]
     },
     "metadata": {},
     "output_type": "display_data"
    }
   ],
   "source": [
    "from functools import reduce\n",
    "import operator\n",
    "\n",
    "\n",
    "def mul(l):\n",
    "    \"\"\"mul() like sum()\"\"\"\n",
    "    return reduce(operator.mul, l, 1)\n",
    "\n",
    "\n",
    "dom = 100\n",
    "landmarks = [5, 15, 55]\n",
    "like_landmark = []\n",
    "for pos in range(dom):\n",
    "    like_landmark.append(\n",
    "        sum(sp.stats.norm.pdf(pos, pos_of_landmark, 4) for pos_of_landmark in landmarks)\n",
    "    )\n",
    "\n",
    "\n",
    "class Localization(Suite): \n",
    "    def likelihood(self, evidence, hypo):\n",
    "        if evidence is True:\n",
    "            return like_landmark[hypo]\n",
    "        else:\n",
    "            raise ValueError()\n",
    "    \n",
    "    # make it look like predict/correct filter\n",
    "    def predict(self, u):\n",
    "        # motion model as before\n",
    "        p_trans = {\n",
    "            'left':  dict(left=0.8, stand=0.2, right=0.0),\n",
    "            'stand': dict(left=0.0, stand=1.0, right=0.0),\n",
    "            'right': dict(left=0.1, stand=0.2, right=0.7),\n",
    "        }\n",
    "        bel_ = [sum([p_trans[u]['left']  * self[(i+1) % self.n],\n",
    "                     p_trans[u]['stand'] * self[i],\n",
    "                     p_trans[u]['right'] * self[(i-1) % self.n]])\n",
    "                for i in range(self.n)]\n",
    "        for i in range(self.n):\n",
    "            self[i] = bel_[i]\n",
    "            \n",
    "    def correct(self, landmark_seen):\n",
    "        \"\"\"Only call \"\"\"\n",
    "        self.update(landmark_seen)\n",
    "\n",
    "\n",
    "localization = Localization(range(dom))\n",
    "\n",
    "fig, ax = plt.subplots()\n",
    "localization.plot(ax=ax)"
   ]
  },
  {
   "cell_type": "code",
   "execution_count": 14,
   "metadata": {
    "collapsed": false
   },
   "outputs": [
    {
     "data": {
      "image/png": "[encoded data removed]",
      "text/plain": [
       "<matplotlib.figure.Figure at 0x7fa7b039d190>"
      ]
     },
     "metadata": {},
     "output_type": "display_data"
    }
   ],
   "source": [
    "localization.correct(True)\n",
    "localization.plot()"
   ]
  },
  {
   "cell_type": "code",
   "execution_count": 15,
   "metadata": {
    "collapsed": false
   },
   "outputs": [
    {
     "data": {
      "image/png": "[encoded data removed]",
      "text/plain": [
       "<matplotlib.figure.Figure at 0x7fa7b0266390>"
      ]
     },
     "metadata": {},
     "output_type": "display_data"
    }
   ],
   "source": [
    "localization.correct(True)\n",
    "localization.plot()"
   ]
  },
  {
   "cell_type": "code",
   "execution_count": 16,
   "metadata": {
    "collapsed": false
   },
   "outputs": [],
   "source": [
    "for i in range(25):\n",
    "    localization.predict('right')\n",
    "\n",
    "localization.plot(ax=ax)"
   ]
  },
  {
   "cell_type": "code",
   "execution_count": 17,
   "metadata": {
    "collapsed": false
   },
   "outputs": [
    {
     "data": {
      "image/png": "[encoded data removed]",
      "text/plain": [
       "<matplotlib.figure.Figure at 0x7fa7b01b9a10>"
      ]
     },
     "metadata": {},
     "output_type": "display_data"
    }
   ],
   "source": [
    "localization.correct(True)\n",
    "localization.plot()"
   ]
  }
 ],
 "metadata": {
  "kernelspec": {
   "display_name": "Python 2",
   "language": "python",
   "name": "python2"
  },
  "language_info": {
   "codemirror_mode": {
    "name": "ipython",
    "version": 2
   },
   "file_extension": ".py",
   "mimetype": "text/x-python",
   "name": "python",
   "nbconvert_exporter": "python",
   "pygments_lexer": "ipython2",
   "version": "2.7.10"
  }
 },
 "nbformat": 4,
 "nbformat_minor": 0
}
